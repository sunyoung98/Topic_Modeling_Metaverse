{
 "cells": [
  {
   "cell_type": "markdown",
   "metadata": {},
   "source": [
    "# 구글 플레이 스토어 리뷰 웹 크롤러\n",
    "- Contributor: Tony Park\n",
    "- References\n",
    "    - Tistory Blog | https://heytech.tistory.com/\n",
    "    - Github | https://github.com/park-gb\n",
    "- Last Updated@2022-01-27"
   ]
  },
  {
   "cell_type": "markdown",
   "metadata": {},
   "source": [
    "# 초기 설정"
   ]
  },
  {
   "cell_type": "markdown",
   "metadata": {},
   "source": [
    "## 크롬 드라이버 세팅"
   ]
  },
  {
   "cell_type": "code",
   "execution_count": 13,
   "metadata": {},
   "outputs": [],
   "source": [
    "chrome_driver = '../chromedriver.exe' # 파일 확장자 이름 표기\n",
    "#chrome_driver = '../chromedriver' # 파일 확장자 이름 미표기"
   ]
  },
  {
   "cell_type": "markdown",
   "metadata": {},
   "source": [
    "## 수집 앱 URL"
   ]
  },
  {
   "cell_type": "code",
   "execution_count": 14,
   "metadata": {},
   "outputs": [],
   "source": [
    "URL = 'https://play.google.com/store/apps/details?id=me.zepeto.main&hl=en&showAllReviews=true'"
   ]
  },
  {
   "cell_type": "markdown",
   "metadata": {},
   "source": [
    "# 패키지 import"
   ]
  },
  {
   "cell_type": "code",
   "execution_count": 15,
   "metadata": {},
   "outputs": [],
   "source": [
    "import requests\n",
    "from selenium import webdriver\n",
    "from selenium.webdriver.common.keys import Keys\n",
    "from selenium.webdriver.support.ui import WebDriverWait\n",
    "from selenium.webdriver.support import expected_conditions as EC\n",
    "from selenium.webdriver.common.by import By\n",
    "from selenium.webdriver.common.keys import Keys\n",
    "from bs4 import BeautifulSoup\n",
    "import time\n",
    "from time import sleep\n",
    "import random\n",
    "from tqdm.auto import tqdm, trange\n",
    "import pandas as pd"
   ]
  },
  {
   "cell_type": "markdown",
   "metadata": {},
   "source": [
    "# 무한 스크롤 함수"
   ]
  },
  {
   "cell_type": "code",
   "execution_count": 16,
   "metadata": {},
   "outputs": [],
   "source": [
    "def scroll(modal):\n",
    "    try:        \n",
    "        # 스크롤 높이 받아오기\n",
    "        last_height = driver.execute_script(\"return arguments[0].scrollHeight\", modal)\n",
    "        print(last_height)\n",
    "        while True:\n",
    "            pause_time = random.uniform(0.5, 0.8)\n",
    "            # 최하단까지 스크롤\n",
    "            driver.execute_script(\"arguments[0].scrollTo(0, arguments[0].scrollHeight);\", modal)\n",
    "            # 페이지 로딩 대기\n",
    "            time.sleep(pause_time)\n",
    "            # 무한 스크롤 동작을 위해 살짝 위로 스크롤\n",
    "            driver.execute_script(\"arguments[0].scrollTo(0, arguments[0].scrollHeight-50);\", modal)\n",
    "            time.sleep(pause_time)\n",
    "            # 스크롤 높이 새롭게 받아오기\n",
    "            new_height = driver.execute_script(\"return arguments[0].scrollHeight\", modal)\n",
    "            try:\n",
    "                # '더보기' 버튼 있을 경우 클릭\n",
    "                all_review_button = driver.find_element_by_xpath('/html/body/div[1]/div[4]/c-wiz/div/div[2]/div/div/main/div/div[1]/div[2]/div[2]/div/span/span').click()\n",
    "            except:\n",
    "                # 스크롤 완료 경우\n",
    "                if new_height == last_height:\n",
    "                    print(\"스크롤 완료\")\n",
    "                    break\n",
    "                last_height = new_height\n",
    "                \n",
    "    except Exception as e:\n",
    "        print(\"에러 발생: \", e)"
   ]
  },
  {
   "cell_type": "markdown",
   "metadata": {},
   "source": [
    "# 데이터 크롤링"
   ]
  },
  {
   "cell_type": "code",
   "execution_count": 17,
   "metadata": {
    "jupyter": {
     "outputs_hidden": true
    },
    "tags": []
   },
   "outputs": [
    {
     "name": "stderr",
     "output_type": "stream",
     "text": [
      "C:\\Users\\tjsdu\\AppData\\Local\\Temp/ipykernel_11492/3082501797.py:2: DeprecationWarning: executable_path has been deprecated, please pass in a Service object\n",
      "  driver = webdriver.Chrome(chrome_driver)\n",
      "C:\\Users\\tjsdu\\AppData\\Local\\Temp/ipykernel_11492/3082501797.py:12: DeprecationWarning: find_element_by_xpath is deprecated. Please use find_element(by=By.XPATH, value=xpath) instead\n",
      "  driver.find_element_by_xpath(all_review_button_xpath).click()\n"
     ]
    },
    {
     "name": "stdout",
     "output_type": "stream",
     "text": [
      "15411\n"
     ]
    },
    {
     "name": "stderr",
     "output_type": "stream",
     "text": [
      "C:\\Users\\tjsdu\\AppData\\Local\\Temp/ipykernel_11492/2041973752.py:19: DeprecationWarning: find_element_by_xpath is deprecated. Please use find_element(by=By.XPATH, value=xpath) instead\n",
      "  all_review_button = driver.find_element_by_xpath('/html/body/div[1]/div[4]/c-wiz/div/div[2]/div/div/main/div/div[1]/div[2]/div[2]/div/span/span').click()\n"
     ]
    },
    {
     "name": "stdout",
     "output_type": "stream",
     "text": [
      "에러 발생:  Message: stale element reference: element is not attached to the page document\n",
      "  (Session info: chrome=100.0.4896.88)\n",
      "Stacktrace:\n",
      "Backtrace:\n",
      "\tOrdinal0 [0x003D9943+2595139]\n",
      "\tOrdinal0 [0x0036C9F1+2148849]\n",
      "\tOrdinal0 [0x00264528+1066280]\n",
      "\tOrdinal0 [0x00266E04+1076740]\n",
      "\tOrdinal0 [0x00266CBE+1076414]\n",
      "\tOrdinal0 [0x0026763A+1078842]\n",
      "\tOrdinal0 [0x002BC529+1426729]\n",
      "\tOrdinal0 [0x002AB9EC+1358316]\n",
      "\tOrdinal0 [0x002BBAF2+1424114]\n",
      "\tOrdinal0 [0x002AB806+1357830]\n",
      "\tOrdinal0 [0x00286086+1204358]\n",
      "\tOrdinal0 [0x00286F96+1208214]\n",
      "\tGetHandleVerifier [0x0057B232+1658114]\n",
      "\tGetHandleVerifier [0x0063312C+2411516]\n",
      "\tGetHandleVerifier [0x0046F261+560433]\n",
      "\tGetHandleVerifier [0x0046E366+556598]\n",
      "\tOrdinal0 [0x0037286B+2173035]\n",
      "\tOrdinal0 [0x003775F8+2192888]\n",
      "\tOrdinal0 [0x003776E5+2193125]\n",
      "\tOrdinal0 [0x003811FC+2232828]\n",
      "\tBaseThreadInitThunk [0x75F5FA29+25]\n",
      "\tRtlGetAppContainerNamedObjectPath [0x77197A7E+286]\n",
      "\tRtlGetAppContainerNamedObjectPath [0x77197A4E+238]\n",
      "\n"
     ]
    }
   ],
   "source": [
    "# 크롬 드라이버 세팅\n",
    "driver = webdriver.Chrome(chrome_driver)\n",
    "# 페이지 열기\n",
    "driver.get(URL)\n",
    "# 페이지 로딩 대기\n",
    "wait = WebDriverWait(driver, 5)\n",
    "\n",
    "# '리뷰 모두 보기' 버튼 렌더링 확인\n",
    "all_review_button_xpath = '/html/body/c-wiz[2]/div/div/div[1]/div[2]/div/div[1]/c-wiz[3]/section/div/div/div[5]/div/div/button/span'\n",
    "button_loading_wait = wait.until(EC.element_to_be_clickable((By.XPATH, all_review_button_xpath)))\n",
    "# '리뷰 모두 보기' 버튼 클릭\n",
    "driver.find_element_by_xpath(all_review_button_xpath).click()\n",
    "\n",
    "# '리뷰 모두 보기' 페이지 렌더링 대기\n",
    "all_review_page_xpath = '/html/body/div[4]/div[2]/div/div/div/div/div[2]'\n",
    "page_loading_wait = wait.until(EC.element_to_be_clickable((By.XPATH, all_review_page_xpath)))\n",
    "\n",
    "# 페이지 무한 스크롤 다운\n",
    "modal = WebDriverWait(driver, 2).until(EC.element_to_be_clickable((By.XPATH, \"//div[@class='fysCi']\")))\n",
    "scroll(modal)"
   ]
  },
  {
   "cell_type": "markdown",
   "metadata": {},
   "source": [
    "# HTML Parsing"
   ]
  },
  {
   "cell_type": "code",
   "execution_count": 18,
   "metadata": {},
   "outputs": [],
   "source": [
    "# html parsing하기\n",
    "html_source = driver.page_source\n",
    "soup_source = BeautifulSoup(html_source, 'html.parser')"
   ]
  },
  {
   "cell_type": "markdown",
   "metadata": {},
   "source": [
    "# HTML 데이터 저장"
   ]
  },
  {
   "cell_type": "code",
   "execution_count": 19,
   "metadata": {},
   "outputs": [],
   "source": [
    "# html 데이터 저장\n",
    "with open(\"../dataset/data_html.html\", \"w\", encoding = 'utf-8') as file:\n",
    "    file.write(str(soup_source))"
   ]
  },
  {
   "cell_type": "markdown",
   "metadata": {},
   "source": [
    "## 데이터프레임 변환"
   ]
  },
  {
   "cell_type": "code",
   "execution_count": 20,
   "metadata": {},
   "outputs": [
    {
     "data": {
      "application/vnd.jupyter.widget-view+json": {
       "model_id": "0c614483e2404378b25c55f8014e90d6",
       "version_major": 2,
       "version_minor": 0
      },
      "text/plain": [
       "0it [00:00, ?it/s]"
      ]
     },
     "metadata": {},
     "output_type": "display_data"
    }
   ],
   "source": [
    "# 리뷰 데이터 클래스 접근\n",
    "review_source = soup_source.find_all(class_ = 'RHo1pe')\n",
    "# 리뷰 데이터 저장용 배열\n",
    "dataset = []\n",
    "# 데이터 넘버링을 위한 변수\n",
    "review_num = 0 \n",
    "# 리뷰 1개씩 접근해 정보 추출\n",
    "for review in tqdm(review_source):\n",
    "    review_num+=1\n",
    "    # 리뷰 등록일 데이터 추출\n",
    "    date_full = review.find_all(class_ = 'bp9Aid')[0].text\n",
    "    date_year = date_full[0:4] # 연도 데이터 추출\n",
    "    # 해당 단어가 등장한 인덱스 추출\n",
    "    year_index = date_full.find('년')\n",
    "    month_index = date_full.find('월')\n",
    "    day_index = date_full.find('일')\n",
    "    \n",
    "    date_month = str(int(date_full[year_index+1:month_index])) # 월(Month) 데이터 추출\n",
    "    # 월 정보가 1자리의 경우 앞에 0 붙이기(e.g., 1월 -> 01월)\n",
    "    if len(date_month) == 1:\n",
    "        date_month = '0' + date_month\n",
    "    \n",
    "    date_day = str(int(date_full[month_index+1:day_index])) # 일(Day) 데이터 추출 \n",
    "    # 일 정보가 1자리의 경우 앞에 0 붙여줌(e.g., 7일 -> 07일)\n",
    "    if len(date_day) == 1:\n",
    "        date_day = '0' + date_day\n",
    "    \n",
    "    # 리뷰 등록일 full version은 최종적으로 yyyymmdd 형태로 저장\n",
    "    date_full = date_year + date_month + date_day\n",
    "    user_name = review.find_all(class_ = 'X5PpBb')[0].text # 닉네임 데이터 추출\n",
    "    rating = review.find_all(class_ = \"iXRFPc\")[0]['aria-label'][10] # 평점 데이터 추출\n",
    "    content = review.find_all(class_ = 'h3YV2d')[0].text # 리뷰 데이터 추출\n",
    "\n",
    "    data = {\n",
    "        \"id\": review_num, \n",
    "        \"date\": date_full,\n",
    "        \"dateYear\": date_year,\n",
    "        \"dateMonth\": date_month,\n",
    "        \"dateDay\": date_day,\n",
    "        \"rating\": rating,\n",
    "        \"userName\": user_name,\n",
    "        \"content\": content\n",
    "    }\n",
    "    dataset.append(data)"
   ]
  },
  {
   "cell_type": "markdown",
   "metadata": {},
   "source": [
    "## 데이터프레임 저장"
   ]
  },
  {
   "cell_type": "code",
   "execution_count": 21,
   "metadata": {},
   "outputs": [],
   "source": [
    "df = pd.DataFrame(dataset)\n",
    "df.to_csv('../dataset/review_dataset.csv', encoding = 'utf-8-sig') # csv 파일로 저장"
   ]
  },
  {
   "cell_type": "markdown",
   "metadata": {},
   "source": [
    "# 리뷰 데이터 불러오기"
   ]
  },
  {
   "cell_type": "code",
   "execution_count": 22,
   "metadata": {},
   "outputs": [
    {
     "data": {
      "text/html": [
       "<div>\n",
       "<style scoped>\n",
       "    .dataframe tbody tr th:only-of-type {\n",
       "        vertical-align: middle;\n",
       "    }\n",
       "\n",
       "    .dataframe tbody tr th {\n",
       "        vertical-align: top;\n",
       "    }\n",
       "\n",
       "    .dataframe thead th {\n",
       "        text-align: right;\n",
       "    }\n",
       "</style>\n",
       "<table border=\"1\" class=\"dataframe\">\n",
       "  <thead>\n",
       "    <tr style=\"text-align: right;\">\n",
       "      <th></th>\n",
       "    </tr>\n",
       "  </thead>\n",
       "  <tbody>\n",
       "  </tbody>\n",
       "</table>\n",
       "</div>"
      ],
      "text/plain": [
       "Empty DataFrame\n",
       "Columns: []\n",
       "Index: []"
      ]
     },
     "execution_count": 22,
     "metadata": {},
     "output_type": "execute_result"
    }
   ],
   "source": [
    "# 저장한 리뷰 정보 불러오기\n",
    "df = pd.read_csv('../dataset/review_dataset.csv', encoding = 'utf-8-sig')\n",
    "df = df.drop(['Unnamed: 0'], axis = 1) # 불필요한 칼럼 삭제\n",
    "df"
   ]
  },
  {
   "cell_type": "code",
   "execution_count": null,
   "metadata": {},
   "outputs": [],
   "source": []
  },
  {
   "cell_type": "code",
   "execution_count": null,
   "metadata": {},
   "outputs": [],
   "source": []
  }
 ],
 "metadata": {
  "kernelspec": {
   "display_name": "Python 3 (ipykernel)",
   "language": "python",
   "name": "python3"
  },
  "language_info": {
   "codemirror_mode": {
    "name": "ipython",
    "version": 3
   },
   "file_extension": ".py",
   "mimetype": "text/x-python",
   "name": "python",
   "nbconvert_exporter": "python",
   "pygments_lexer": "ipython3",
   "version": "3.9.7"
  },
  "toc-autonumbering": true
 },
 "nbformat": 4,
 "nbformat_minor": 4
}
